{
 "cells": [
  {
   "cell_type": "markdown",
   "metadata": {},
   "source": [
    "# 9장 전방탐색과 후방탐색"
   ]
  },
  {
   "cell_type": "markdown",
   "metadata": {},
   "source": [
    "## 전후방탐색 살펴보기\n",
    "* 후방탐색은 많은 곳에서 지원하지 않는다.\n",
    "* Python에서는 제약이 있긴 하나, 후방탐색을 지원한다.\n",
    "* JavaScript에서는 지원하지 않는다."
   ]
  },
  {
   "cell_type": "markdown",
   "metadata": {},
   "source": [
    "## 전방탐색\n",
    "* 전방탐색은 ?=로 시작한다.\n",
    "* 일부 정규 표현식 문서에선 일치 영역을 반환하는 동작을 '소비한다(consume)'고 표현한다. 즉, 전방탐색은 소비하지 않는다(not consume)고 표현할 수 있다."
   ]
  },
  {
   "cell_type": "code",
   "execution_count": 1,
   "metadata": {},
   "outputs": [
    {
     "name": "stdout",
     "output_type": "stream",
     "text": [
      "<re.Match object; span=(0, 4), match='http'>\n",
      "<re.Match object; span=(22, 27), match='https'>\n",
      "<re.Match object; span=(46, 49), match='ftp'>\n",
      "<re.Match object; span=(0, 5), match='http:'>\n",
      "<re.Match object; span=(22, 28), match='https:'>\n",
      "<re.Match object; span=(46, 50), match='ftp:'>\n"
     ]
    }
   ],
   "source": [
    "import re\n",
    "\n",
    "ex = '''http://www.forta.com/\n",
    "https://mail.forta.com/\n",
    "ftp://ftp.forta.com/'''\n",
    "\n",
    "p1 = re.compile(r'.+(?=:)')\n",
    "p2 = re.compile(r'.+(:)')\n",
    "res1 = p1.finditer(ex)\n",
    "res2 = p2.finditer(ex)\n",
    "for r in res1: print(r)\n",
    "for r in res2: print(r)"
   ]
  },
  {
   "cell_type": "markdown",
   "metadata": {},
   "source": [
    "* p1은 전방탐색이며, :를 찾고 앞의 문자를 탐색하며 :는 소비하지 말라는 뜻이다.\n",
    "* p2는 일치한 텍스트를 소비하는 것을 볼 수 있다.\n",
    "* 전방과 후방탐색 일치는 실제로 결과를 반환하나, 반환 문자 길이는 항상 0이다. 따라서 전방탐색을 제로폭(zero-width)이라고도 부른다."
   ]
  },
  {
   "cell_type": "markdown",
   "metadata": {},
   "source": [
    "## 후방탐색\n",
    "* 후방탐색은 ?<=로 한다."
   ]
  },
  {
   "cell_type": "code",
   "execution_count": 2,
   "metadata": {},
   "outputs": [
    {
     "name": "stdout",
     "output_type": "stream",
     "text": [
      "<re.Match object; span=(7, 13), match='$23.45'>\n",
      "<re.Match object; span=(21, 26), match='$5.31'>\n",
      "<re.Match object; span=(34, 41), match='$899.00'>\n",
      "<re.Match object; span=(49, 55), match='$69.96'>\n",
      "<re.Match object; span=(8, 13), match='23.45'>\n",
      "<re.Match object; span=(22, 26), match='5.31'>\n",
      "<re.Match object; span=(35, 41), match='899.00'>\n",
      "<re.Match object; span=(50, 55), match='69.96'>\n"
     ]
    }
   ],
   "source": [
    "import re\n",
    "\n",
    "ex = '''ABC01: $23.45\n",
    "HGG42: $5.31\n",
    "CFMX1: $899.00\n",
    "XTC99: $69.96\n",
    "Total items found: 4'''\n",
    "\n",
    "p1 = re.compile(r'\\$[0-9.]+')\n",
    "p2 = re.compile(r'(?<=\\$)[0-9.]+')\n",
    "res1 = p1.finditer(ex)\n",
    "res2 = p2.finditer(ex)\n",
    "for r in res1: print(r)\n",
    "for r in res2: print(r)"
   ]
  },
  {
   "cell_type": "markdown",
   "metadata": {},
   "source": [
    "* 전방탐색 패턴은 텍스트의 길이를 다양하게 할 수 있으나, 후방탐색 패턴은 일치시킬 텍스트의 길이를 고정해야 한다."
   ]
  },
  {
   "cell_type": "markdown",
   "metadata": {},
   "source": [
    "## 전방과 후방탐색 함께 쓰기"
   ]
  },
  {
   "cell_type": "code",
   "execution_count": 4,
   "metadata": {},
   "outputs": [
    {
     "name": "stdout",
     "output_type": "stream",
     "text": [
      "<re.Match object; span=(14, 34), match=\"Ben Forta's Homepage\">\n"
     ]
    }
   ],
   "source": [
    "import re\n",
    "\n",
    "ex = '''<head>\n",
    "<title>Ben Forta's Homepage</title>\n",
    "</head>'''\n",
    "\n",
    "p1 = re.compile(r'(?<=\\<[tT][iI][tT][lL][eE]>).*(?=</[tT][iI][tT][lL][eE]>)')\n",
    "res1 = p1.finditer(ex)\n",
    "for r in res1: print(r)"
   ]
  },
  {
   "cell_type": "markdown",
   "metadata": {},
   "source": [
    "## 부정형 전후방탐색\n",
    "* 실제로 일치하는 텍스트를 찾는 경우를, 긍정형(positive) 전방탐색 / 긍정형 후방탐색이라고 한다.\n",
    "* 부정형은 일치하지 않는 텍스트를 찾는 경우이다.\n",
    "* 캐럿(^)을 쓰는 문법과는 다르다.\n",
    "* 전방탐색을 지원하는 경우라면, 긍정형과 부정형 전방탐색 모두를 지원한다. 후방탐색의 경우도 마찬가지다.\n",
    "\n",
    "|Class|Description|\n",
    "|---|---|\n",
    "|(?=)|Positive lookahead|\n",
    "|(?!)|Negative lookahead|\n",
    "|(?<=)|Positive lookbehind|\n",
    "|(?<!)|Negative lookbehind|\n"
   ]
  },
  {
   "cell_type": "code",
   "execution_count": 5,
   "metadata": {},
   "outputs": [
    {
     "name": "stdout",
     "output_type": "stream",
     "text": [
      "<re.Match object; span=(8, 10), match='30'>\n",
      "<re.Match object; span=(62, 63), match='5'>\n",
      "<re.Match object; span=(15, 18), match='100'>\n",
      "<re.Match object; span=(27, 29), match='50'>\n",
      "<re.Match object; span=(43, 45), match='60'>\n",
      "<re.Match object; span=(9, 10), match='0'>\n",
      "<re.Match object; span=(15, 18), match='100'>\n",
      "<re.Match object; span=(27, 29), match='50'>\n",
      "<re.Match object; span=(43, 45), match='60'>\n"
     ]
    }
   ],
   "source": [
    "import re\n",
    "\n",
    "ex = '''I paid $30 for 100 apples,\n",
    "50 oranges, and 60 pears.\n",
    "I saved $5 on this order.'''\n",
    "\n",
    "p1 = re.compile(r'(?<=\\$)\\d+')\n",
    "p2 = re.compile(r'\\b(?<!\\$)\\d+\\b')\n",
    "p3 = re.compile(r'(?<!\\$)\\d+')\n",
    "res1 = p1.finditer(ex)\n",
    "res2 = p2.finditer(ex)\n",
    "res3 = p3.finditer(ex)\n",
    "for r in res1: print(r)\n",
    "for r in res2: print(r)\n",
    "for r in res3: print(r)"
   ]
  },
  {
   "cell_type": "markdown",
   "metadata": {},
   "source": [
    "* p1은 후방탐색이며, \\d+는 하나 이상 연속된 숫자를 의미한다. 후방탐색이므로 $는 소비하지 않는다.\n",
    "* p2는 부정형 후방탐색이다. p1의 후방탐색 `(?<=\\$)`을 `(?<!\\$)`로 바꿨다. 즉, 앞에 달러가 없는 숫자와만 일치한다. 예를 들어, 100 apples에서의 100과 일치한다.\n",
    "* p2에서 왜 \\b를 사용하여 단어 경계를 지정했는가? 단어 경계가 없다면, $30에 있는 0도 일치하기 때문이다. 숫자 0 앞에는 $표시가 없기 때문이다. 이 경우를 p3에서 볼 수 있다."
   ]
  }
 ],
 "metadata": {
  "kernelspec": {
   "display_name": "Python 3.7.7 64-bit",
   "language": "python",
   "name": "python3"
  },
  "language_info": {
   "codemirror_mode": {
    "name": "ipython",
    "version": 3
   },
   "file_extension": ".py",
   "mimetype": "text/x-python",
   "name": "python",
   "nbconvert_exporter": "python",
   "pygments_lexer": "ipython3",
   "version": "3.7.7"
  },
  "orig_nbformat": 4,
  "vscode": {
   "interpreter": {
    "hash": "d49c3f6d6dd49f9272b571d9fad348ab55b8c6c3f691520d74ed0af1f69c3dd8"
   }
  }
 },
 "nbformat": 4,
 "nbformat_minor": 2
}
