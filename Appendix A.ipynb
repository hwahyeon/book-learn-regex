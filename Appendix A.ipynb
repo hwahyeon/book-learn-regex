{
 "cells": [
  {
   "cell_type": "markdown",
   "metadata": {},
   "source": [
    "# 부록"
   ]
  },
  {
   "cell_type": "markdown",
   "metadata": {},
   "source": [
    "## JavaScript\n",
    "* POSIX 문자 클래스는 지원 안한다."
   ]
  },
  {
   "cell_type": "markdown",
   "metadata": {},
   "source": [
    "## MySQL\n",
    "* MySQL에선 WHERE 절에서 정규 표현식을 사용할 수 있다.\n",
    "* SELECT * FROM 'TABLE' WHERE 'COLUMN' REGEXP 'RegExpression'\n",
    "* 전후방탐색, 조건 달기, 8진수 문자 검색, 역참조 지원 X"
   ]
  },
  {
   "cell_type": "markdown",
   "metadata": {},
   "source": [
    "## Python\n",
    "* preg_grep() : 검색 후 매칭 항목 배열 반환\n",
    "* findall() : 모든 하위 문자열 리스트로 반환\n",
    "* finditer() : 모든 하위 문자열 이터레이터로 반환\n",
    "* match() : 정규표현식을 검색 -> 일차 항목 없을 시 None 반환\n",
    "* search() : 문자열 모든 매칭 항목에서 검색 -> 일차 항목 없을 시 None 반환\n",
    "* split() : 일치 패턴을 기준으로 문자열 나눔\n",
    "* sub()\n",
    "* subn()\n",
    "  \n",
    "* re.IGNORECASE : 대소문자 구분하지 않는 검색을 위함.\n",
    "* re.VERBOSE : 정규 표현식 디버깅에 도움이 됨."
   ]
  }
 ],
 "metadata": {
  "kernelspec": {
   "display_name": "Python 3.7.7 64-bit",
   "language": "python",
   "name": "python3"
  },
  "language_info": {
   "name": "python",
   "version": "3.7.7"
  },
  "orig_nbformat": 4,
  "vscode": {
   "interpreter": {
    "hash": "d49c3f6d6dd49f9272b571d9fad348ab55b8c6c3f691520d74ed0af1f69c3dd8"
   }
  }
 },
 "nbformat": 4,
 "nbformat_minor": 2
}
