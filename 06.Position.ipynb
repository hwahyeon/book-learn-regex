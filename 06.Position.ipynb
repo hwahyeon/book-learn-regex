{
 "cells": [
  {
   "cell_type": "markdown",
   "metadata": {},
   "source": [
    "# 6장 위치 찾기"
   ]
  },
  {
   "cell_type": "markdown",
   "metadata": {},
   "source": [
    "## 경계 지정하기  "
   ]
  },
  {
   "cell_type": "code",
   "execution_count": 1,
   "metadata": {},
   "outputs": [
    {
     "name": "stdout",
     "output_type": "stream",
     "text": [
      "['cat', 'cat']\n",
      "['cat']\n"
     ]
    }
   ],
   "source": [
    "import re\n",
    "\n",
    "ex = '''The cat scattered his food all over the room.'''\n",
    "\n",
    "p1 = re.compile(r'cat')\n",
    "p2 = re.compile(r'\\bcat\\b')\n",
    "\n",
    "print(p1.findall(ex)) #scattered의 cat도 포함\n",
    "print(p2.findall(ex)) "
   ]
  },
  {
   "cell_type": "code",
   "execution_count": null,
   "metadata": {},
   "outputs": [],
   "source": [
    "* \\b는 단어 경계이다. 단어의 시작이나 마지막을 일치시킬 때 사용한다.\n",
    "* \\bcat은 cat으로 시작하는 모든 단어와 일치한다.\n",
    "* cat\\b는 cat으로 끝나는 모든 단어와 일치한다.\n",
    "* \\b는 실제로 문자와 일치하는 것이 아닌, 위치를 가리킨다.__build_class__\n",
    "* \\B는 특별히 단어 경계와 일치시키고 싶지 않을 때 쓴다."
   ]
  },
  {
   "cell_type": "code",
   "execution_count": 5,
   "metadata": {},
   "outputs": [
    {
     "name": "stdout",
     "output_type": "stream",
     "text": [
      "['cat']\n",
      "['cat']\n"
     ]
    }
   ],
   "source": [
    "import re\n",
    "\n",
    "ex = '''The cat scattered his food all over the room.'''\n",
    "\n",
    "p1 = re.compile(r'\\bcat\\b')\n",
    "p2 = re.compile(r'\\Bcat\\B')\n",
    "\n",
    "print(p1.findall(ex)) # The cat의 cat과 일치\n",
    "print(p2.findall(ex)) # scattered의 cat과 일치. 즉, \\B는 \\b와 반대된다."
   ]
  },
  {
   "cell_type": "markdown",
   "metadata": {},
   "source": [
    "## 문자열 경계 정의하기\n",
    "* 문자열 경계는 ^으로 문자열의 시작을, $로 문자열의 마지막을 나타낸다. (대괄호와 ^을 함께 쓰면 부정을 뜻한다.)"
   ]
  },
  {
   "cell_type": "markdown",
   "metadata": {},
   "source": [
    "## 다중행 모드 사용\n",
    "* (?m)은 다중행(multiline)을 지원한다.\n",
    "* (?m)은 패턴 제일 앞에 위치해야 한다."
   ]
  },
  {
   "cell_type": "code",
   "execution_count": 7,
   "metadata": {},
   "outputs": [
    {
     "name": "stdout",
     "output_type": "stream",
     "text": [
      "['// Make sure not empty', '// Init', '// Done']\n"
     ]
    }
   ],
   "source": [
    "import re\n",
    "\n",
    "# javascript의 모든 주석 찿기\n",
    "\n",
    "ex = '''<script>\n",
    "function doSpellCheck(form, field) {\n",
    "// Make sure not empty\n",
    "if (field.value == '') {\n",
    "return false;\n",
    "}\n",
    "// Init\n",
    "var windowName='spellWindow';\n",
    "var spellCheckURL='spell.cfm?formname=comment&fieldname='+field.name;\n",
    "∙∙∙\n",
    "// Done\n",
    "return false;\n",
    "}\n",
    "</script>'''\n",
    "\n",
    "p1 = re.compile(r'(?m)^\\s*\\/\\/.*$')\n",
    "\n",
    "print(p1.findall(ex))"
   ]
  },
  {
   "cell_type": "markdown",
   "metadata": {},
   "source": []
  }
 ],
 "metadata": {
  "kernelspec": {
   "display_name": "Python 3.7.7 64-bit",
   "language": "python",
   "name": "python3"
  },
  "language_info": {
   "codemirror_mode": {
    "name": "ipython",
    "version": 3
   },
   "file_extension": ".py",
   "mimetype": "text/x-python",
   "name": "python",
   "nbconvert_exporter": "python",
   "pygments_lexer": "ipython3",
   "version": "3.7.7"
  },
  "orig_nbformat": 4,
  "vscode": {
   "interpreter": {
    "hash": "d49c3f6d6dd49f9272b571d9fad348ab55b8c6c3f691520d74ed0af1f69c3dd8"
   }
  }
 },
 "nbformat": 4,
 "nbformat_minor": 2
}
