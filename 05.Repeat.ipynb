{
 "cells": [
  {
   "cell_type": "markdown",
   "metadata": {},
   "source": [
    "# 5장 반복 찾기"
   ]
  },
  {
   "cell_type": "markdown",
   "metadata": {},
   "source": [
    "## 몇 번 일치하는가?  \n",
    "### 하나 이상의 문자 찾기\n",
    "* + 문자로 '하나 이상'을 표현할 수 있다. 즉, a+는 하나 이상 연속된 a를 찾는다. [0-9]+ 는 한 자리 이상 연속된 숫자를 찾는다. ([0-9+]는 숫자 0부터 9 그리고 더하기 기호(+)를 찾을 뿐이다.)  \n",
    "* 더하기(+)는 메타 문자이므로 더하기 문자 자체를 찾으려면 \\+로 해야 한다.\n",
    "\n",
    "ex)  \n",
    "\\w+@\\w+\\.\\w+  \n",
    "하지만 이 경우에는  \n",
    "ben.forta@urgent.forta.com과 같은 이메일은 찾을 수 없다. \\w는 영숫자와 일치하나, 마침표와는 일치하지 않기에, @ 앞의 마침표를 검색할 수 없다. 또한 정규표현식으로 @ 뒤의 마침표를 하나만 검색하도록 설정했기 때문에, @ 뒤의 경우도 적절치 못하다.  \n",
    "\n",
    "이런 경우 집합을 만들고 +를 해주면 된다.  \n",
    "\\w+[\\w.]+@[\\w.]+\\.\\w+  \n",
    "  \n",
    "* 메타 문자가 집합의 구성원일 경우엔, 문자 그대로 취급되므로 굳이 이스케이프할 필요 없다. 그러나 해준다고 해서 문제가 생기지는 않는다. 즉, [\\w.]과 [\\w\\.]은 같다.\n",
    "\n",
    "### 문자가 없거나 하나 이상 연속하는 문자 찾기\n",
    "* 더하기(+)는 하나 이상 연속된 문자를 찾는다. 즉, 문자가 없는 경우는 아예 찾지 못하고, 최소한 하나는 일치해야 한다.\n",
    "* 있을 수도 있고 없을 수도 있는 문자를 찾으려면 별표(*)를 사용한다.  \n",
    "위 정규 표현식을 \\w+[\\w.]*@[\\w.]+\\.\\w+ 로 바꿔줄 수 있겠다.  "
   ]
  },
  {
   "cell_type": "code",
   "execution_count": 34,
   "metadata": {},
   "outputs": [
    {
     "name": "stdout",
     "output_type": "stream",
     "text": [
      "['a@b.c']\n",
      "['a@b.c', 'ben@forta.com', 'support@forta.com', 'spam@forta.com', 'forta@urgent.forta', 'b@forta.com']\n",
      "['ben@forta.com', 'support@forta.com', 'spam@forta.com', 'ben.forta@urgent.forta.com']\n",
      "['a@b.c', 'ben@forta.com', 'support@forta.com', 'spam@forta.com', 'ben.forta@urgent.forta.com', 'b@forta.com']\n"
     ]
    }
   ],
   "source": [
    "import re\n",
    "\n",
    "ex = '''a@b.c\n",
    "ben@forta.com  \n",
    "support@forta.com  \n",
    "spam@forta.com\n",
    "ben.forta@urgent.forta.com\n",
    ".b@forta.com'''\n",
    "p1 = re.compile(r'\\w@\\w\\.\\w')\n",
    "p2 = re.compile(r'\\w+@\\w+\\.\\w+')\n",
    "p3 = re.compile(r'\\w+[\\w.]+@[\\w.]+\\.\\w+')\n",
    "p4 = re.compile(r'\\w+[\\w.]*@[\\w.]+\\.\\w+')\n",
    "\n",
    "print(p1.findall(ex))\n",
    "print(p2.findall(ex))\n",
    "print(p3.findall(ex))\n",
    "print(p4.findall(ex))"
   ]
  },
  {
   "cell_type": "markdown",
   "metadata": {},
   "source": [
    "### 문자가 없거나 하나인 문자\n",
    "* 메타 문자인 물음표(?)는 자기 앞에 있는 문자가 없거나 하나만 있는 경우에 일치한다.\n",
    "* 정규 표현식 https*:\\/\\/[\\w.\\/]+ 는 httpsssss://와도 일치하므로 부적절하다. 이런 경우 https?:\\/\\/[\\w.\\/]+ 가 옳겠다. https?는 http나 https와는 일치하지만 그 외에는 일치하지 않는다.\n",
    "  \n",
    "* [\\r]?\\n은 /r이 있을 경우 \\r과 일치하고, \\n과는 반드시 일치한다.\n",
    "* \\r?이 아닌 [\\r]?로 사용하는 이유는 (실제로 둘은 기능이 같다) 집합([])은 혼란을 방지하고자 문자가 하나일 때도 사용하기 때문이다. 즉 뒤에 나오는 메타 문자(?)가 어디에 사용되는지 확실하게 하기 위함이다."
   ]
  },
  {
   "cell_type": "code",
   "execution_count": 24,
   "metadata": {},
   "outputs": [
    {
     "name": "stdout",
     "output_type": "stream",
     "text": [
      "['http://www.forta.com/', 'https://www.forta.com/', 'httpsssssss://www.forta.com/']\n",
      "['http://www.forta.com/', 'https://www.forta.com/']\n"
     ]
    }
   ],
   "source": [
    "import re\n",
    "\n",
    "ex = '''The URL is http://www.forta.com/, to connect\n",
    "securely use https://www.forta.com/ instead.\n",
    "This URL httpsssssss://www.forta.com/ is also an example'''\n",
    "\n",
    "p1 = re.compile(r'https*:\\/\\/[\\w.\\/]+')\n",
    "p2 = re.compile(r'https?:\\/\\/[\\w.\\/]+')\n",
    "\n",
    "print(p1.findall(ex))\n",
    "print(p2.findall(ex))"
   ]
  },
  {
   "cell_type": "markdown",
   "metadata": {},
   "source": [
    "## 구간 지정하기\n",
    "* +와 *는 일치하는 문자 수에 제한이 없다.\n",
    "* 원하는 만큼의 수만 일치하도록 하려면 구간(interval)을 활용하고 그것은 {숫자}로 표현한다.\n",
    "\n",
    "### 범위 구간\n",
    "* 범위 구간은 숫자를 두 번 써서 나타낸다. \\d{2,4}는 2자리~4자리를 의미한다.\n",
    "* 구간은 0부터 시작할 수 있다. {0,3}은 요소가 없는 경우와 한 번, 두 번, 세 번 일치함을 의미한다.\n",
    "* ?는 {0,1}과 기능이 같다고 하겠다.\n",
    "\n",
    "### '최소' 구간\n",
    "* 최댓값 없이 최솟값만 지정할 수 있다. {3,}은 최소 세 번 이상을 말한다.\n",
    "* 더하기(+)는 {1,}과 같다고 하겠다."
   ]
  },
  {
   "cell_type": "code",
   "execution_count": 36,
   "metadata": {},
   "outputs": [
    {
     "name": "stdout",
     "output_type": "stream",
     "text": [
      "['#f', '#0', '#d', '#f']\n",
      "['#fefbd8', '#0000ff', '#d0f4e6', '#f08970']\n"
     ]
    }
   ],
   "source": [
    "import re\n",
    "\n",
    "ex = '''body {\n",
    "background-color: #fefbd8;\n",
    "}\n",
    "h1 {\n",
    "background-color: #0000ff;\n",
    "}\n",
    "div {\n",
    "background-color: #d0f4e6;\n",
    "}\n",
    "span {\n",
    "background-color: #f08970;\n",
    "}'''\n",
    "\n",
    "p1 = re.compile(r'#[A-Fa-f0-9]')\n",
    "p2 = re.compile(r'#[A-Fa-f0-9]{6}')\n",
    "\n",
    "print(p1.findall(ex))\n",
    "print(p2.findall(ex))"
   ]
  },
  {
   "cell_type": "code",
   "execution_count": 38,
   "metadata": {},
   "outputs": [
    {
     "name": "stdout",
     "output_type": "stream",
     "text": [
      "['1001: $496.8', '1002: $1290.6', '1003: $26.4', '1004: $613.4', '1004: $613.4', '1006: $414.9', '1007: $25.0']\n",
      "['1001: $496.8', '1002: $1290.6', '1004: $613.4', '1004: $613.4', '1006: $414.9']\n"
     ]
    }
   ],
   "source": [
    "import re\n",
    "\n",
    "ex = '''1001: $496.80\n",
    "1002: $1290.69\n",
    "1003: $26.43\n",
    "1004: $613.42\n",
    "1004: $613.42\n",
    "1005: $7.61\n",
    "1006: $414.90\n",
    "1007: $25.00'''\n",
    "\n",
    "p1 = re.compile(r'\\d+: \\$\\d{2,}\\.\\d')\n",
    "p2 = re.compile(r'\\d+: \\$\\d{3,}\\.\\d')\n",
    "\n",
    "print(p1.findall(ex))\n",
    "print(p2.findall(ex))"
   ]
  },
  {
   "cell_type": "markdown",
   "metadata": {},
   "source": [
    "## 과하게 일치하는 상황 방지\n",
    "* *와 + 같은 메타 문자는 탐욕적이기 때문에 가장 큰 덩어리를 찾으려고 한다. 이런 메타 문자는 찾으려는 텍스트를 텍스트의 마지막에서 시작해 거꾸로 찾는다. 이는 의도적으로 수량자(quantifier)를 탐욕적으로 설계한 탓이다.  \n",
    "  \n",
    "예를 들어 정규 표현식 <[Bb]>.*<\\/[Bb]>을 활용하면,  \n",
    "<b>AK</b> and <b>HI</b>  \n",
    "를 탐색한다.  \n",
    "* 이런 경우 탐욕적 수량자를 게으른(lazy) 수량자로 변경해주면 된다. 수량자 뒤에 ?를 붙이면 된다.  \n",
    "* 탐욕적 수량자 * + {n,} 게으른 수량자 *? +? {n,}?\n",
    "* <[Bb]>.*<\\/[Bb]>f를 <[Bb]>.*?<\\/[Bb]>로 변경하면,  \n",
    "<b>AK</b> <b>HI</b>만 일치한다."
   ]
  },
  {
   "cell_type": "code",
   "execution_count": 21,
   "metadata": {},
   "outputs": [
    {
     "name": "stdout",
     "output_type": "stream",
     "text": [
      "['<b>AK</b> and <b>HI</b>']\n",
      "['<b>AK</b>', '<b>HI</b>']\n"
     ]
    }
   ],
   "source": [
    "import re\n",
    "\n",
    "ex = '''This offer is not available to customers\n",
    "living in <b>AK</b> and <b>HI</b>.'''\n",
    "\n",
    "p1 = re.compile(r'<[Bb]>.*<\\/[Bb]>')\n",
    "p2 = re.compile(r'<[Bb]>.*?<\\/[Bb]>')\n",
    "\n",
    "print(p1.findall(ex))\n",
    "print(p2.findall(ex))\n"
   ]
  }
 ],
 "metadata": {
  "kernelspec": {
   "display_name": "Python 3.7.7 64-bit",
   "language": "python",
   "name": "python3"
  },
  "language_info": {
   "codemirror_mode": {
    "name": "ipython",
    "version": 3
   },
   "file_extension": ".py",
   "mimetype": "text/x-python",
   "name": "python",
   "nbconvert_exporter": "python",
   "pygments_lexer": "ipython3",
   "version": "3.7.7"
  },
  "orig_nbformat": 4,
  "vscode": {
   "interpreter": {
    "hash": "d49c3f6d6dd49f9272b571d9fad348ab55b8c6c3f691520d74ed0af1f69c3dd8"
   }
  }
 },
 "nbformat": 4,
 "nbformat_minor": 2
}
