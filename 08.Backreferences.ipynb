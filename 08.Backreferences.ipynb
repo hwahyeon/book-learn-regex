{
 "cells": [
  {
   "cell_type": "markdown",
   "metadata": {},
   "source": [
    "# 8장 역참조 사용하기"
   ]
  },
  {
   "cell_type": "code",
   "execution_count": 17,
   "metadata": {},
   "outputs": [
    {
     "name": "stdout",
     "output_type": "stream",
     "text": [
      "<re.Match object; span=(7, 38), match='<h1>Welcome to my Homepage</h1>'>\n",
      "<re.Match object; span=(82, 94), match='<h2>SQL</h2>'>\n",
      "<re.Match object; span=(118, 132), match='<h2>RegEx</h2>'>\n",
      "<re.Match object; span=(172, 203), match='<h2>This is not valid HTML</h3>'>\n"
     ]
    }
   ],
   "source": [
    "import re\n",
    "\n",
    "ex = '''<body>\n",
    "<h1>Welcome to my Homepage</h1>\n",
    "Content is divided into two sections:<br/>\n",
    "<h2>SQL</h2>\n",
    "Information about SQL.\n",
    "<h2>RegEx</h2>\n",
    "Information about Regular Expressions.\n",
    "<h2>This is not valid HTML</h3>\n",
    "</body>'''\n",
    "\n",
    "p1 = re.compile(r'<[hH][1-6]>.*?<\\/[hH][1-6]>')\n",
    "res = p1.finditer(ex)\n",
    "for r in res: print(r)"
   ]
  },
  {
   "cell_type": "markdown",
   "metadata": {},
   "source": [
    "## 역참조 이해하기\n",
    "* p1에선 .\\*(탐욕적 수량자)가 아니라 .\\*?(게으른 수량자)를 사용한 것을 유의하자. 탐욕적 수량자를 썼으면 두 번째 줄의 ```<h1>부터 마지막 </h3>```까지 '가져왔을 수도' 있다.\n",
    "* p1은 ```<h2>This is not valid HTML</h3>```처럼 잘못된 태그도 가져온다. 즉, 종료 태그가 일치할 때, 시작 태그가 어떤 텍스트인지 알 수가 없다는 것이다. 이럴 때 역참조를 사용한다."
   ]
  },
  {
   "cell_type": "markdown",
   "metadata": {},
   "source": [
    "## 역참조로 찾기"
   ]
  },
  {
   "cell_type": "code",
   "execution_count": 16,
   "metadata": {},
   "outputs": [
    {
     "name": "stdout",
     "output_type": "stream",
     "text": [
      "<re.Match object; span=(15, 21), match=' of of'>\n",
      "<re.Match object; span=(46, 54), match=' are are'>\n",
      "<re.Match object; span=(64, 72), match=' and and'>\n"
     ]
    }
   ],
   "source": [
    "import re\n",
    "\n",
    "ex = '''This is a block of of text,\n",
    "several words here are are\n",
    "repeated, and and they\n",
    "should not be.'''\n",
    "\n",
    "p1 = re.compile(r'[ ]+(\\w+)[ ]+\\1')\n",
    "\n",
    "res = p1.finditer(ex)\n",
    "for r in res: print(r)"
   ]
  },
  {
   "cell_type": "markdown",
   "metadata": {},
   "source": [
    "### 위 p1 살피기\n",
    "* [ ]+ 공백이 하나 이상 연속되는 경우 일치\n",
    "* \\w+ 영숫자 문자 하나 이상 연속되는 경우 일치\n",
    "* [ ]+ 그 뒤에 공백이 있을 때 일치\n",
    "  \n",
    "* 여기서 하위 표현식을 사용한 이유는, 반복을 위해서가 아니라 나중에 일치한 부분을 사용할 수 있도록 표시해놓은 것이다.\n",
    "* \\1은 앞서 일치한 하위 표현식을 참조하겠다는 의미이다. 즉 (\\w+)와 일치한 문자는 \\1과도 일치한다.\n",
    "* 파이썬에서는 group이라는 이름의 배열이 포함된 결과 객체를 반환한다."
   ]
  },
  {
   "cell_type": "code",
   "execution_count": 15,
   "metadata": {},
   "outputs": [
    {
     "name": "stdout",
     "output_type": "stream",
     "text": [
      "<re.Match object; span=(7, 38), match='<h1>Welcome to my Homepage</h1>'>\n",
      "<re.Match object; span=(82, 94), match='<h2>SQL</h2>'>\n",
      "<re.Match object; span=(118, 132), match='<h2>RegEx</h2>'>\n"
     ]
    }
   ],
   "source": [
    "import re\n",
    "\n",
    "ex = '''<body>\n",
    "<h1>Welcome to my Homepage</h1>\n",
    "Content is divided into two sections:<br/>\n",
    "<h2>SQL</h2>\n",
    "Information about SQL.\n",
    "<h2>RegEx</h2>\n",
    "Information about Regular Expressions.\n",
    "<h2>This is not valid HTML</h3>\n",
    "</body>'''\n",
    "\n",
    "p1 = re.compile(r'<[hH]([1-6])>.*?<\\/[hH]\\1>')\n",
    "\n",
    "res = p1.finditer(ex)\n",
    "for r in res: print(r)"
   ]
  },
  {
   "cell_type": "markdown",
   "metadata": {},
   "source": [
    "* 위의 p1에선 \\1으로 ([1-6])를 참조했다. 따라서 <[hH]([1-6])>와 <\\/[hH]\\1>는 일치한다.\n",
    "* 역참조는 하위 표현식일 때만 동작한다.\n",
    "* 참조하는 숫자는 1부터 시작하며, 0번째 참조는 표현식 전체를 의미한다.\n",
    "* 숫자로 참조하는 경우는 여러 에러 사항이 있다. 이를 보완하고자, '이름 붙여 저장하는 기능'을 지원하는 정규 표현식 구현도 있다. 닷넷이 대표적이다."
   ]
  },
  {
   "cell_type": "markdown",
   "metadata": {},
   "source": [
    "## 치환 작업 수행"
   ]
  },
  {
   "cell_type": "code",
   "execution_count": 47,
   "metadata": {},
   "outputs": [
    {
     "name": "stdout",
     "output_type": "stream",
     "text": [
      "(313) 555-1234\n",
      "(248) 555-9999\n",
      "(810) 555-9000\n"
     ]
    }
   ],
   "source": [
    "import re\n",
    "\n",
    "ex = '''313-555-1234\n",
    "248-555-9999\n",
    "810-555-9000'''\n",
    "\n",
    "print(re.sub(pattern = '(\\d{3})(-)(\\d{3})(-)(\\d{4})',\n",
    "            repl = r\"(\\1) \\3-\\5\",\n",
    "            string = ex))"
   ]
  },
  {
   "cell_type": "markdown",
   "metadata": {},
   "source": [
    "## 대소문자 변환\n",
    "|Meta|Description|\n",
    "|---|---|\n",
    "|\\E|\\L or \\U 변환의 끝|\n",
    "|\\l|소문자로 바꾸고 싶은 글자 앞에 사용|\n",
    "|\\L|\\E를 만날 때까지 모든 문자 소문자로|\n",
    "|\\u|대문자로 바꾸고 싶은 글자 앞에 사용|\n",
    "|\\U|\\E를 만날 때까지 모든 문자 대문자로|"
   ]
  },
  {
   "cell_type": "code",
   "execution_count": 81,
   "metadata": {},
   "outputs": [
    {
     "name": "stdout",
     "output_type": "stream",
     "text": [
      "<body>\n",
      "<h1>WELCOME TO MY HOMEPAGE</h1>\n",
      "Content is divided into two sections:<br/>\n",
      "<h2>SQL</h2>\n",
      "Information about SQL.\n",
      "<h2>RegEx</h2>\n",
      "Information about Regular Expressions.\n",
      "<h2>This is not valid HTML</h3>\n",
      "</body>\n"
     ]
    }
   ],
   "source": [
    "import re\n",
    "\n",
    "ex = '''<body>\n",
    "<h1>Welcome to my Homepage</h1>\n",
    "Content is divided into two sections:<br/>\n",
    "<h2>SQL</h2>\n",
    "Information about SQL.\n",
    "<h2>RegEx</h2>\n",
    "Information about Regular Expressions.\n",
    "<h2>This is not valid HTML</h3>\n",
    "</body>'''\n",
    "\n",
    "\n",
    "print(re.sub(pattern = '(<[Hh]1>)(.*?)(<\\/[Hh]1>)',\n",
    "            repl = lambda x: x.group(1) + r'{}'.format(x.group(2).upper()) + x.group(3),\n",
    "            string = ex))\n"
   ]
  },
  {
   "cell_type": "markdown",
   "metadata": {},
   "source": [
    "* Python에서는 \\u, \\U는 오로지 유니코드 패턴으로만 사용하므로, 아래 코드는 에러가 난다.  \n",
    "\n",
    "`print(re.sub(pattern = '(<[Hh]1>)(.*?)(<\\/[Hh]1>)',  \n",
    "            repl = r\"\\1\\U\\2\\E\\3\",  \n",
    "            string = ex))  `"
   ]
  }
 ],
 "metadata": {
  "kernelspec": {
   "display_name": "Python 3.7.7 64-bit",
   "language": "python",
   "name": "python3"
  },
  "language_info": {
   "codemirror_mode": {
    "name": "ipython",
    "version": 3
   },
   "file_extension": ".py",
   "mimetype": "text/x-python",
   "name": "python",
   "nbconvert_exporter": "python",
   "pygments_lexer": "ipython3",
   "version": "3.7.7"
  },
  "orig_nbformat": 4,
  "vscode": {
   "interpreter": {
    "hash": "d49c3f6d6dd49f9272b571d9fad348ab55b8c6c3f691520d74ed0af1f69c3dd8"
   }
  }
 },
 "nbformat": 4,
 "nbformat_minor": 2
}
