{
 "cells": [
  {
   "cell_type": "markdown",
   "metadata": {},
   "source": [
    "# 8장 역참조 사용하기"
   ]
  },
  {
   "cell_type": "code",
   "execution_count": 17,
   "metadata": {},
   "outputs": [
    {
     "name": "stdout",
     "output_type": "stream",
     "text": [
      "<re.Match object; span=(7, 38), match='<h1>Welcome to my Homepage</h1>'>\n",
      "<re.Match object; span=(82, 94), match='<h2>SQL</h2>'>\n",
      "<re.Match object; span=(118, 132), match='<h2>RegEx</h2>'>\n",
      "<re.Match object; span=(172, 203), match='<h2>This is not valid HTML</h3>'>\n"
     ]
    }
   ],
   "source": [
    "import re\n",
    "\n",
    "ex = '''<body>\n",
    "<h1>Welcome to my Homepage</h1>\n",
    "Content is divided into two sections:<br/>\n",
    "<h2>SQL</h2>\n",
    "Information about SQL.\n",
    "<h2>RegEx</h2>\n",
    "Information about Regular Expressions.\n",
    "<h2>This is not valid HTML</h3>\n",
    "</body>'''\n",
    "\n",
    "p1 = re.compile(r'<[hH][1-6]>.*?<\\/[hH][1-6]>')\n",
    "res = p1.finditer(ex)\n",
    "for r in res: print(r)"
   ]
  },
  {
   "cell_type": "markdown",
   "metadata": {},
   "source": [
    "## 역참조 이해하기\n",
    "* p1에선 .*(탐욕적 수량자)가 아니라 .\\*?(게으른 수량자)를 사용한 것을 유의하자. 탐욕적 수량자를 썼으면 두 번째 줄의 <h1>부터 마지막 </h3>까지 '가져왔을 수도' 있다.\n",
    "* p1은 <h2>This is not valid HTML</h3>처럼 잘못된 태그도 가져온다. 즉, 종료 태그가 일치할 때, 시작 태그가 어떤 텍스트인지 알 수가 없다는 것이다. 이럴 때 역참조를 사용한다."
   ]
  },
  {
   "cell_type": "markdown",
   "metadata": {},
   "source": [
    "## 역참조로 찾기"
   ]
  },
  {
   "cell_type": "code",
   "execution_count": 16,
   "metadata": {},
   "outputs": [
    {
     "name": "stdout",
     "output_type": "stream",
     "text": [
      "<re.Match object; span=(15, 21), match=' of of'>\n",
      "<re.Match object; span=(46, 54), match=' are are'>\n",
      "<re.Match object; span=(64, 72), match=' and and'>\n"
     ]
    }
   ],
   "source": [
    "import re\n",
    "\n",
    "ex = '''This is a block of of text,\n",
    "several words here are are\n",
    "repeated, and and they\n",
    "should not be.'''\n",
    "\n",
    "p1 = re.compile(r'[ ]+(\\w+)[ ]+\\1')\n",
    "\n",
    "res = p1.finditer(ex)\n",
    "for r in res: print(r)"
   ]
  },
  {
   "cell_type": "markdown",
   "metadata": {},
   "source": [
    "### 위 p1 살피기\n",
    "* [ ]+ 공백이 하나 이상 연속되는 경우 일치\n",
    "* \\w+ 영숫자 문자 하나 이상 연속되는 경우 일치\n",
    "* [ ]+ 그 뒤에 공백이 있을 때 일치\n",
    "  \n",
    "* 여기서 하위 표현식을 사용한 이유는, 반복을 위해서가 아니라 나중에 일치한 부분을 사용할 수 있도록 표시해놓은 것이다.\n",
    "* \\1은 앞서 일치한 하위 표현식을 참조하겠다는 의미이다. 즉 (\\w+)와 일치한 문자는 \\1과도 일치한다.\n",
    "* 파이썬에서는 group이라는 이름의 배열이 포함된 결과 객체를 반환한다."
   ]
  },
  {
   "cell_type": "code",
   "execution_count": 15,
   "metadata": {},
   "outputs": [
    {
     "name": "stdout",
     "output_type": "stream",
     "text": [
      "<re.Match object; span=(7, 38), match='<h1>Welcome to my Homepage</h1>'>\n",
      "<re.Match object; span=(82, 94), match='<h2>SQL</h2>'>\n",
      "<re.Match object; span=(118, 132), match='<h2>RegEx</h2>'>\n"
     ]
    }
   ],
   "source": [
    "import re\n",
    "\n",
    "ex = '''<body>\n",
    "<h1>Welcome to my Homepage</h1>\n",
    "Content is divided into two sections:<br/>\n",
    "<h2>SQL</h2>\n",
    "Information about SQL.\n",
    "<h2>RegEx</h2>\n",
    "Information about Regular Expressions.\n",
    "<h2>This is not valid HTML</h3>\n",
    "</body>'''\n",
    "\n",
    "p1 = re.compile(r'<[hH]([1-6])>.*?<\\/[hH]\\1>')\n",
    "\n",
    "res = p1.finditer(ex)\n",
    "for r in res: print(r)"
   ]
  }
 ],
 "metadata": {
  "kernelspec": {
   "display_name": "Python 3.7.7 64-bit",
   "language": "python",
   "name": "python3"
  },
  "language_info": {
   "codemirror_mode": {
    "name": "ipython",
    "version": 3
   },
   "file_extension": ".py",
   "mimetype": "text/x-python",
   "name": "python",
   "nbconvert_exporter": "python",
   "pygments_lexer": "ipython3",
   "version": "3.7.7"
  },
  "orig_nbformat": 4,
  "vscode": {
   "interpreter": {
    "hash": "d49c3f6d6dd49f9272b571d9fad348ab55b8c6c3f691520d74ed0af1f69c3dd8"
   }
  }
 },
 "nbformat": 4,
 "nbformat_minor": 2
}
