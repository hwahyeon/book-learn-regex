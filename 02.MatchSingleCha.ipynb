{
 "cells": [
  {
   "cell_type": "markdown",
   "metadata": {},
   "source": [
    "# 2장 문자 하나 찾기"
   ]
  },
  {
   "cell_type": "markdown",
   "metadata": {},
   "source": [
    "## 모든 문자 찾기  \n",
    "* 마침표(.) 문자는 아무 문자 하나와 일치한다.  \n",
    "* 즉, c.t을 사용하면 cat, cot 등도 찾을 수 있다.  \n",
    "* 또한 마침표(.)는 마침표(.) 자체와도 일치한다.  \n",
    "* 마침표(.)는 여러 개를 동시에 사용할 수도 있다. 즉, .a..는 sale, pac1, na1 등이 결과로 나온다.  "
   ]
  },
  {
   "cell_type": "code",
   "execution_count": 1,
   "metadata": {},
   "outputs": [
    {
     "name": "stdout",
     "output_type": "stream",
     "text": [
      "['sales1', 'sales2', 'sales3']\n",
      "['sal', 'sal', 'sal', 'pac', 'na1', 'na2', 'sa1']\n",
      "['sale', 'sale', 'sale', 'pac1', 'na1.', 'na2.', 'sa1.']\n"
     ]
    }
   ],
   "source": [
    "import re\n",
    "\n",
    "ex = '''sales1.xls\n",
    "orders3.xls\n",
    "sales2.xls\n",
    "sales3.xls\n",
    "apac1.xls\n",
    "europe2.xls\n",
    "na1.xls\n",
    "na2.xls\n",
    "sa1.xls'''\n",
    "\n",
    "p1 = re.compile(r'sales.')\n",
    "p2 = re.compile(r'.a.')\n",
    "p3 = re.compile(r'.a..')\n",
    "\n",
    "print(p1.findall(ex))\n",
    "print(p2.findall(ex))\n",
    "print(p3.findall(ex))"
   ]
  },
  {
   "cell_type": "markdown",
   "metadata": {},
   "source": [
    "## 특수문자 찾기\n",
    "* 만일 마침표(.)를 찾고 싶은 거라면, \\. 를 사용하면 된다.  \n",
    "* 문자 그대로 사용되지 않고 특별한 의미를 갖는 문자를 메타 문자라 한다. 역슬래시(\\)는 메타 문자이다. 역슬래시 자체를 찾으려면 \\\\를 사용하면 되겠다.  \n",
    "* 마침표(.)는 대다수 정규 표현식에서 줄바꿈(newline) 문자를 제외한 모든 문자와 일치한다.  "
   ]
  },
  {
   "cell_type": "code",
   "execution_count": 2,
   "metadata": {},
   "outputs": [
    {
     "name": "stdout",
     "output_type": "stream",
     "text": [
      "['na1.', 'na2.', 'sa1.']\n",
      "['na1.xls', 'na2.xls', 'sa1.xls']\n"
     ]
    }
   ],
   "source": [
    "import re\n",
    "\n",
    "ex = '''sales1.xls\n",
    "orders3.xls\n",
    "sales2.xls\n",
    "sales3.xls\n",
    "apac1.xls\n",
    "europe2.xls\n",
    "na1.xls\n",
    "na2.xls\n",
    "sa1.xls'''\n",
    "\n",
    "p1 = re.compile(r'.a.\\.')\n",
    "p2 = re.compile(r'.a.\\.xls')\n",
    "\n",
    "print(p1.findall(ex))\n",
    "print(p2.findall(ex))"
   ]
  }
 ],
 "metadata": {
  "kernelspec": {
   "display_name": "Python 3.7.7 64-bit",
   "language": "python",
   "name": "python3"
  },
  "language_info": {
   "codemirror_mode": {
    "name": "ipython",
    "version": 3
   },
   "file_extension": ".py",
   "mimetype": "text/x-python",
   "name": "python",
   "nbconvert_exporter": "python",
   "pygments_lexer": "ipython3",
   "version": "3.7.7"
  },
  "orig_nbformat": 4,
  "vscode": {
   "interpreter": {
    "hash": "d49c3f6d6dd49f9272b571d9fad348ab55b8c6c3f691520d74ed0af1f69c3dd8"
   }
  }
 },
 "nbformat": 4,
 "nbformat_minor": 2
}
