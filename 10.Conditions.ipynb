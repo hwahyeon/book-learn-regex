{
 "cells": [
  {
   "cell_type": "markdown",
   "metadata": {},
   "source": [
    "# 10장 조건 달기"
   ]
  },
  {
   "cell_type": "markdown",
   "metadata": {},
   "source": [
    "* 모든 정규 표현식에서 조건 처리를 지원하는 건 아니다.\n",
    "* JavaScript는 지원하지 않음.\n",
    "\n",
    "* Python supports conditionals using a numbered or named capturing group. Python does not support conditionals using lookaround, even though Python does support lookaround outside conditionals. Instead of a conditional like (?(?=regex)then|else), you can alternate two opposite lookarounds: (?=regex)then|(?!regex)else."
   ]
  },
  {
   "cell_type": "markdown",
   "metadata": {},
   "source": [
    "## 조건 사용하기\n",
    "* 조건은 ?로 정의한다.\n",
    "* 물음표는 바로 앞에 문자가 표현식이 존재하면, 그 문자나 표현식과 일치한다.\n",
    "* ?는 전방탐색이나 후방탐색일 때도 쓰인다.\n",
    "* 즉, 역참조를 사용하는 조건 / 전후방탐색을 사용하는 조건에 물음표는 쓰인다."
   ]
  },
  {
   "cell_type": "markdown",
   "metadata": {},
   "source": [
    "## 역참조 조건\n",
    "* `(?(backreference)true)` 형식으로 쓰인다.\n",
    "* ?로 조건을 시작하고, 괄호 안에 역참조를 넣은 후, 역참조가 존재하는 경우에만 평가할 표현식을 쓴다."
   ]
  },
  {
   "cell_type": "code",
   "execution_count": 6,
   "metadata": {},
   "outputs": [],
   "source": [
    "import re\n",
    "\n",
    "ex = '''<!-- Nav bar -->\n",
    "<div>\n",
    "<a href=\"/home\"><img src=\"/images/home.gif\"></a>\n",
    "<img src=\"/images/spacer.gif\">\n",
    "<a href=\"/search\"><img src=\"/images/search.gif\"></a>\n",
    "<img src=\"/images/spacer.gif\">\n",
    "<a href=\"/help\"><img src=\"/images/help.gif\"></a>\n",
    "</div>'''\n",
    "\n",
    "#p1 = re.compile(r'(<[Aa]\\s+[^>]+>\\s*)?<[Ii][Mm][Gg]\\s+[^>]+>(?(1)\\s*<\\/[Aa]>)')\n",
    "#p2 = re.compile(r'(\\()?\\d{3}(?(1)\\)|-)\\d{3}-\\d{4}')"
   ]
  },
  {
   "cell_type": "markdown",
   "metadata": {},
   "source": [
    "* p1\n",
    "* (<[Aa]\\s+[^>]+>\\s*)?는 `<A>` 나 `<a>` 시작태그가 일치한다. 속성이 있다면 속성도 일치한다. 마지막 ?는 이 패턴이 없어도 되고, 있으면 일치한다는 것을 말한다.\n",
    "* `<[Ii][Mm][Gg]\\s+[^>]+>`는 `<img>` 태그와 속성도 모두 포함한다.\n",
    "* `(?(1)\\s*<\\/[Aa]>)`에서 `?(1)`은 역참조 `1(<A>시작 태그)`가 있을 때만 수행하라는 의미이다. 즉 태그 `<A>`와 일치하면 그 뒤의 종료 태그도 일치하라는 뜻이다. 만약 (1)이 있다면, `\\s*<\\/[Aa]>`는 `</A>`가 나오기 전까지 모든 문자를 일치 영역에 넣어 준다."
   ]
  },
  {
   "cell_type": "markdown",
   "metadata": {},
   "source": [
    "* `(?(backrefence)true|false)`처럼 else 문도 사용할 수 있다."
   ]
  },
  {
   "cell_type": "markdown",
   "metadata": {},
   "source": [
    "## 전후방탐색 조건"
   ]
  },
  {
   "cell_type": "code",
   "execution_count": null,
   "metadata": {},
   "outputs": [],
   "source": [
    "'''11111\n",
    "22222\n",
    "33333-\n",
    "55555-5555'''\n",
    "\n",
    "'''\\d{5}(-\\d{4})?'''\n",
    "'''\\d{5}(?(?=-)-\\d{4})'''"
   ]
  },
  {
   "cell_type": "markdown",
   "metadata": {},
   "source": [
    "\n",
    "* `\\d{5}(-\\d{4})?`는 33333-을 포함한다. `(-\\d{4})?`는 하이픈과 네 자리 숫자로 이루어진 문자열을 찾는 것이기 때문이다.\n",
    "\n",
    "* `\\d{5}(?(?=-)-\\d{4})`에서 \\d{5}는 앞부분에 있는 다섯 자리 숫자와 일치한다. `(?(?=-)-\\d{4})`에서 전방탐색 ?=-를 써 하이픈을 찾아내고 (소비하지는 않는다) 하이픈이 있다면, -\\d{4}는 그 하이픈과 이어나오는 숫자 4개와 일치한다."
   ]
  }
 ],
 "metadata": {
  "kernelspec": {
   "display_name": "Python 3.7.7 64-bit",
   "language": "python",
   "name": "python3"
  },
  "language_info": {
   "codemirror_mode": {
    "name": "ipython",
    "version": 3
   },
   "file_extension": ".py",
   "mimetype": "text/x-python",
   "name": "python",
   "nbconvert_exporter": "python",
   "pygments_lexer": "ipython3",
   "version": "3.7.7"
  },
  "orig_nbformat": 4,
  "vscode": {
   "interpreter": {
    "hash": "d49c3f6d6dd49f9272b571d9fad348ab55b8c6c3f691520d74ed0af1f69c3dd8"
   }
  }
 },
 "nbformat": 4,
 "nbformat_minor": 2
}
