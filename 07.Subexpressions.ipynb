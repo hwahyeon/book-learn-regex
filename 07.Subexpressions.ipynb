{
 "cells": [
  {
   "cell_type": "markdown",
   "metadata": {},
   "source": [
    "# 7장 하위 표현식 사용하기"
   ]
  },
  {
   "cell_type": "markdown",
   "metadata": {},
   "source": [
    "* 예를 들어 &nbsp;{2,}는 &nbsp;와 두 개 이상 일치해야 하지만 그러지 않는다. {2,}는 바로 앞에 있는 문자가 연속해서 반복된 횟수만을 표현한다. 즉, ;의 문자의 반복만 표현한다. 따라서 &nbsp;;;;;는 일치하겠지만, &nbsp;&nbsp;는 불일치한다. 이럴 때 하위 표현식을 사용할 수 있다.\n",
    "* 하위 표현식은 괄호로 표현한다. (괄호도 메타문자이다.)\n",
    "* (&nbsp;){2,}으로 표현식을 짜면, &nbsp;&nbsp;과 일치한다."
   ]
  },
  {
   "cell_type": "markdown",
   "metadata": {},
   "source": [
    "* 19xx년이나 20xx년을 위한 정규 표현식은 (19|20)\\d{2}처럼 표현할 수 있다.\n",
    "* 19|20\\d{2}는 19 or 20\\d{2}로 인식한다. 즉, 19 혹은 20으로 시작하는 표현으로 인식한다."
   ]
  },
  {
   "cell_type": "markdown",
   "metadata": {},
   "source": [
    "## 중첩된 하위 표현식\n",
    "* ip주소 패턴은 하위 표현식을 중첩해서 사용할 수 있다."
   ]
  },
  {
   "cell_type": "code",
   "execution_count": 7,
   "metadata": {},
   "outputs": [
    {
     "name": "stdout",
     "output_type": "stream",
     "text": [
      "['12.159.46.200']\n",
      "['46.']\n",
      "[('46.', '46', '', '', '159', '46', '200', '200', '', '200', '', '')]\n",
      "[('46.', '46', '46', '159', '', '', '20', '20', '', '', '')]\n"
     ]
    }
   ],
   "source": [
    "import re\n",
    "\n",
    "ex = '''Pinging hog.forta.com [12.159.46.200]\n",
    "with 32 bytes of data:'''\n",
    "\n",
    "p1 = re.compile(r'\\d{1,3}\\.\\d{1,3}\\.\\d{1,3}\\.\\d{1,3}')\n",
    "p2 = re.compile(r'(\\d{1,3}\\.){3}\\d{1,3}')\n",
    "p3 = re.compile(r'(((25[0-5])|(2[0-4]\\d)|(1\\d{2})|(\\d{1,2}))\\.){3}(((25[0-5])|(2[0-4]\\d)|(1\\d{2})|(\\d{1,2})))')\n",
    "p4 = re.compile(r'(((\\d{1,2})|(1\\d{2})|(2[0-4]\\d)|(25[0-5]))\\.){3}((\\d{1,2})|(1\\d{2})|(2[0-4]\\d)|(25[0-5]))')\n",
    "\n",
    "print(p1.findall(ex))\n",
    "print(p2.findall(ex))\n",
    "print(p3.findall(ex))\n",
    "print(p4.findall(ex))"
   ]
  },
  {
   "cell_type": "markdown",
   "metadata": {},
   "source": [
    "* p1과 p2가 255이상의 숫자도 가능한데 비해, p3는 0부터 255사이의 숫자까지만 일치하도록 하위 표현식을 중첩했다.\n",
    "* (((25[0-5])|(2[0-4]\\d)|(1\\d{2})|(\\d{1,2}))\\.)은 250~255, 200~249, 100~199, 0~99를 의미한다.\n",
    "* p4에선 마지막 0이 일치하지 않았다. (\\d{1,2})가 마지막 200 중 20에 일치하면서 표현식이 끝난 것이다. (정규 표현식 패턴은 왼쪽에서 오른쪽으로 평가된다. 패턴이 일치하면 다른 선택 사항은 시도되지 않는다.)"
   ]
  }
 ],
 "metadata": {
  "kernelspec": {
   "display_name": "Python 3.7.7 64-bit",
   "language": "python",
   "name": "python3"
  },
  "language_info": {
   "codemirror_mode": {
    "name": "ipython",
    "version": 3
   },
   "file_extension": ".py",
   "mimetype": "text/x-python",
   "name": "python",
   "nbconvert_exporter": "python",
   "pygments_lexer": "ipython3",
   "version": "3.7.7"
  },
  "orig_nbformat": 4,
  "vscode": {
   "interpreter": {
    "hash": "d49c3f6d6dd49f9272b571d9fad348ab55b8c6c3f691520d74ed0af1f69c3dd8"
   }
  }
 },
 "nbformat": 4,
 "nbformat_minor": 2
}
