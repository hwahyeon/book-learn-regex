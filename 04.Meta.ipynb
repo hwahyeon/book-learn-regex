{
 "cells": [
  {
   "cell_type": "markdown",
   "metadata": {},
   "source": [
    " # 4장 메타 문자 사용하기"
   ]
  },
  {
   "cell_type": "markdown",
   "metadata": {},
   "source": [
    "## 이스케이프 다시 살펴보기\n",
    "* 대괄호([])는 메타 문자로 동작하기 때문에 myArray\\[0\\] 식으로 사용해야 한다. 만약 myArray[0]으로 정규표현식을 사용하면, myArray0과 일치하는 것을 찾을 것이다.\n",
    "* 메타 문자 중 짝을 이루는 것(대괄호 등)을 메타 문자가 아닌 문자 하나로만 사용하려면 반드시 이스케이프를 해야 한다.\n",
    "* \\ 하나만 사용하면 분석기는 정규표현식이 다 작성되지 않았다고 판단하고 에러를 발생시킨다."
   ]
  },
  {
   "cell_type": "markdown",
   "metadata": {},
   "source": [
    "## 공백 문자 찾기\n",
    "|메타|설명|\n",
    "|---|---|\n",
    "|[\\b]|백스페이스|\n",
    "|\\f|페이지 넘김|\n",
    "|\\n|줄바꿈|\n",
    "|\\r|캐리지 리턴|\n",
    "|\\t|탭|\n",
    "|\\v|수직 탭|\n",
    "  \n",
    "\n",
    "* 정규표현식 \\r\\n은 윈도우에서 줄의 끝을 나타낸다. \\r\\n\\r\\n을 검색하면, 줄 끝이 연속해서 두 번 나오는 부분과 일치한다. 즉, 두 레코드 사이에 빈 줄을 의미한다.\n",
    "* 유닉스나 리눅스 혹은 맥 OS X에서는 단순히 줄바꿈 문자만 사용한다. 따라서, \\n만 사용하고 싶겠으나, 이 부분은 다음 장에서 다시 다룬다.\n"
   ]
  },
  {
   "cell_type": "markdown",
   "metadata": {},
   "source": [
    "## 특정한 문자 형태와 일치시키기\n",
    "* 자주 쓰는 문자 집합들은 특수한 메타 문자로 대신하기도 하는데, 이런 메타 문자들을 문자 클래스(Classes of characters)라고 한다.\n",
    "\n",
    "### 숫자와 숫자가 아닌 문자 찾기\n",
    "* \\d : 숫자 하나와 같다. ([0-9])\n",
    "* \\D : 숫자를 제외한 문자 하나와 같다. ([^0-9])\n",
    "\n",
    "### 영숫자 문자와 아닌 것 찾기\n",
    "* \\w : 대소문자 + _ + 숫자와 같다. ([a-zA-Z0-9_])\n",
    "* \\W : 대소문자, 숫자나 밑줄이 아닌 문자. ([^a-zA-Z0-9_])\n",
    "\n",
    "### 공백 문자와 아닌 것 찾기\n",
    "* \\s : 모든 공백 문자 ([\\f\\n\\r\\t\\v])와 같다.\n",
    "* \\S : 공백이 아닌 모든 문자 ([^\\f\\n\\r\\t\\v])\n",
    "* \\s와 \\S는 백스페이스 [\\b]를 포함하지 않는다.\n",
    "\n",
    "### 16진수와 8진수\n",
    "* 16진수는 \\x를 붙여 표시한다. 즉, \\x0A(아스키 문자 10)은 줄바꿈 문자가 된다. (\\n)\n",
    "* 8진수는 \\0을 붙여 표시한다. \\011(아스키 문자 9)는 탭 문자가 된다. (\\t)\n",
    "* \\c를 이용해 Ctrl을 표현할 수 있다. \\cZ는 Ctrl-Z와 일치한다."
   ]
  },
  {
   "cell_type": "code",
   "execution_count": 1,
   "metadata": {},
   "outputs": [
    {
     "name": "stdout",
     "output_type": "stream",
     "text": [
      "['A1C2E3', 'M1B4F2', 'H1H2H2']\n"
     ]
    }
   ],
   "source": [
    "import re\n",
    "\n",
    "ex = '''11213\n",
    "A1C2E3\n",
    "48075\n",
    "48237\n",
    "M1B4F2\n",
    "90046\n",
    "H1H2H2'''\n",
    "\n",
    "p1 = re.compile(r'\\w\\d\\w\\d\\w\\d')\n",
    "\n",
    "print(p1.findall(ex))"
   ]
  },
  {
   "cell_type": "markdown",
   "metadata": {},
   "source": [
    "## 포직스(POSIX)^2 문자 클래스\n",
    "* 포직스 문자 클래스는 줄여 쓰기를 나타내는 또 다른 형태.\n",
    "* 자바스크립트에선 포직스 문자 클래스를 지원하지 않는다.  \n",
    "\n",
    "|분류|설명|\n",
    "|---|---|\n",
    "|[:alnum:]|문자, 숫자 ([a-zA-Z0-9])|\n",
    "|[:alpha:]|문자 [a-zA-Z])|\n",
    "|[:blank:]|빈칸(space)나 탭 문자 ([\\t])|\n",
    "|[:cntrl:]|ASCII 제어 문자 (ASCII 0번부터 31번과 127번)|\n",
    "|[:digit:]|숫자 (same as [0-9])|\n",
    "|[:graph:]|[:print:]와 동일 하지만 빈칸(space)은 제외|\n",
    "|[:lower:]|소문자([a-z])|\n",
    "|[:print:]|출력 가능한 모든 문자|\n",
    "|[:punct:]|[:alnum:]이나 [:cntrl:]가 포함되지 않은 모든 문자|\n",
    "|[:space:]|빈칸을 포함한 모든 공백 문자 ([\\f\\n\\r\\t\\v])|\n",
    "|[:upper:]|대문자 ([A-Z])|\n",
    "|[:xdigit:]|모든 16진수 숫자 ([a-fA-F0-9])|\n",
    "\n",
    "* [[:xdigit:]] 여기서 바깥의 []는 집합을, 안의 []는 :와 함께 포직스 클래스를 나타내는 것이다.\n",
    "* [[:xdigit:]]로 #fefbd8 #0000ff #d0f4e6 등 RGB값을 찾을 수 있다.\n"
   ]
  },
  {
   "cell_type": "code",
   "execution_count": 25,
   "metadata": {},
   "outputs": [
    {
     "name": "stdout",
     "output_type": "stream",
     "text": [
      "['#fefbd8', '#0000ff', '#d0f4e6', '#f08970']\n"
     ]
    }
   ],
   "source": [
    "import re\n",
    "\n",
    "ex = '''body {\n",
    "background-color: #fefbd8;\n",
    "}\n",
    "h1 {\n",
    "background-color: #0000ff;\n",
    "}\n",
    "div {\n",
    "background-color: #d0f4e6;\n",
    "}\n",
    "span {\n",
    "background-color: #f08970;\n",
    "}'''\n",
    "\n",
    "p1 = re.compile(r'#[0-9A-Fa-f][0-9A-Fa-f][0-9A-Fa-f][0-9A-Fa-f][0-9A-Fa-f][0-9A-Fa-f]')\n",
    "#p2 = re.compile(r'#[[:xdigit:]][[:xdigit:]][[:xdigit:]][[:xdigit:]][[:xdigit:]][[:xdigit:]]') #Python에서는 위 포직스 문법을 따르지 않음.\n",
    "print(p1.findall(ex))\n",
    "#print(p2.findall(ex))"
   ]
  }
 ],
 "metadata": {
  "kernelspec": {
   "display_name": "Python 3.7.7 64-bit",
   "language": "python",
   "name": "python3"
  },
  "language_info": {
   "codemirror_mode": {
    "name": "ipython",
    "version": 3
   },
   "file_extension": ".py",
   "mimetype": "text/x-python",
   "name": "python",
   "nbconvert_exporter": "python",
   "pygments_lexer": "ipython3",
   "version": "3.7.7"
  },
  "orig_nbformat": 4,
  "vscode": {
   "interpreter": {
    "hash": "d49c3f6d6dd49f9272b571d9fad348ab55b8c6c3f691520d74ed0af1f69c3dd8"
   }
  }
 },
 "nbformat": 4,
 "nbformat_minor": 2
}
