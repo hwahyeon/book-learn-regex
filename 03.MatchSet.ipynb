{
 "cells": [
  {
   "cell_type": "markdown",
   "metadata": {},
   "source": [
    "# 3장 문자 집합으로 찾기"
   ]
  },
  {
   "cell_type": "markdown",
   "metadata": {},
   "source": [
    "## 여러 문자 중 하나와 일치시키기\n",
    "* 메타문자 []를 사용해 문자 집합을 만들면, 이 집합에 속한 문자 가운데 하나가 일치한 경우를 돌려준다.  \n",
    "* [Rr]eg[Ee]x으로 정규표현식을 사용하면 RegEx, regex 등이 선택된다.  "
   ]
  },
  {
   "cell_type": "markdown",
   "metadata": {},
   "source": [
    "## 문자 집합 범위 사용하기\n",
    "* 정규표현식에서 숫자나 문자 범위는 하이픈(-)을 제공한다.\n",
    "* [0-9]는 [0123456789]와 같다.\n",
    "* [A-Z]는 A부터 Z사이의 대문자, [a-z]는 a부터 z사이의 소문자와 같다.\n",
    "* [A-z]는 ASCII문자 A와 ASCII 문자 z사이의 모든 문자를 의미한다. 여기엔 여는 대괄호([)와 캐럿(^) 등도 포함된다.\n",
    "* 범위 지정 시 더 큰 값이 앞에 나오면 동작하지 않는다. ex) [3-1]\n",
    "* 하이픈(-)은 대괄호 안에서만 메타 문자이다. 따라서 대괄호 밖에서 \\-식으로 사용할 필요가 없다.\n",
    "* 범위 여러 개를 집합 하나에 함께 넣을 수 있다. [A-Za-z0-9]는 [ABCDEFGHIJKLMNOPQRSTUVWXYZabcdefghijklmnopqrstuvwxyz01234567890]와 같다.\n"
   ]
  },
  {
   "cell_type": "markdown",
   "metadata": {},
   "source": [
    "## '제외하고' 찾기\n",
    "* 캐럿(^)을 사용하면 일치하지 않는 경우를 의미한다. 즉, 지정한 문자들을 제외한 어떤 것들과 일치시킨다.\n",
    "* [^0-9]는 숫자와 일치하는 것들을 제한다는 의미다."
   ]
  }
 ],
 "metadata": {
  "language_info": {
   "name": "python"
  },
  "orig_nbformat": 4
 },
 "nbformat": 4,
 "nbformat_minor": 2
}
